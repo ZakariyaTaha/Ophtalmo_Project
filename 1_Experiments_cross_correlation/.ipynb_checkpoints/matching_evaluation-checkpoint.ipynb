{
 "cells": [
  {
   "cell_type": "code",
   "execution_count": 2,
   "metadata": {},
   "outputs": [],
   "source": [
    "import pandas as pd\n",
    "import numpy as np\n",
    "import matplotlib.pyplot as plt\n",
    "%matplotlib inline\n",
    "\n",
    "import skimage\n",
    "from skimage import data, color, transform\n",
    "from skimage.color import rgb2gray\n",
    "from skimage.filters import meijering, sato, frangi, hessian\n",
    "from skimage.feature import (match_descriptors, corner_harris,\n",
    "                             corner_peaks, ORB, plot_matches,\n",
    "                             hessian_matrix, hessian_matrix_eigvals,\n",
    "                             hog, SIFT)\n",
    "from skimage.transform import ProjectiveTransform, SimilarityTransform, warp\n",
    "from skimage.measure import ransac\n",
    "from skimage.io import imread, imshow, imsave\n",
    "\n",
    "import cv2\n",
    "import helpers\n",
    "\n",
    "%load_ext autoreload\n",
    "%autoreload 2"
   ]
  },
  {
   "cell_type": "markdown",
   "metadata": {},
   "source": [
    "# Load the data"
   ]
  },
  {
   "cell_type": "code",
   "execution_count": 3,
   "metadata": {},
   "outputs": [],
   "source": [
    "def remove_circle(img):\n",
    "    center = (int(img.shape[1]/2), int(img.shape[0]/2))\n",
    "    radius = int(img.shape[0]/2) - 100\n",
    "    mask = np.zeros(img.shape[:2], dtype=\"uint8\")\n",
    "    cv2.circle(mask, center, radius, 255, -1)\n",
    "    return cv2.bitwise_and(img, img, mask=mask)\n",
    "\n",
    "def preproc(img):\n",
    "    img = rgb2gray(img)\n",
    "    return remove_circle(img)"
   ]
  },
  {
   "cell_type": "code",
   "execution_count": 4,
   "metadata": {},
   "outputs": [
    {
     "name": "stdout",
     "output_type": "stream",
     "text": [
      "(1984, 7)\n",
      "Index(['patient_id', 'eye', 'centrage', 'num_target', 'path_target',\n",
      "       'num_source', 'path_source'],\n",
      "      dtype='object')\n"
     ]
    },
    {
     "data": {
      "text/html": [
       "<div>\n",
       "<style scoped>\n",
       "    .dataframe tbody tr th:only-of-type {\n",
       "        vertical-align: middle;\n",
       "    }\n",
       "\n",
       "    .dataframe tbody tr th {\n",
       "        vertical-align: top;\n",
       "    }\n",
       "\n",
       "    .dataframe thead th {\n",
       "        text-align: right;\n",
       "    }\n",
       "</style>\n",
       "<table border=\"1\" class=\"dataframe\">\n",
       "  <thead>\n",
       "    <tr style=\"text-align: right;\">\n",
       "      <th></th>\n",
       "      <th>patient_id</th>\n",
       "      <th>eye</th>\n",
       "      <th>centrage</th>\n",
       "      <th>num_target</th>\n",
       "      <th>path_target</th>\n",
       "      <th>num_source</th>\n",
       "      <th>path_source</th>\n",
       "    </tr>\n",
       "  </thead>\n",
       "  <tbody>\n",
       "    <tr>\n",
       "      <th>2</th>\n",
       "      <td>1</td>\n",
       "      <td>L</td>\n",
       "      <td>macula</td>\n",
       "      <td>00000</td>\n",
       "      <td>1-20211006-L-cfi-macula-OphtalmoLaus-00000.jpg</td>\n",
       "      <td>00001</td>\n",
       "      <td>1-20211006-L-cfi-macula-OphtalmoLaus-00001.jpg</td>\n",
       "    </tr>\n",
       "    <tr>\n",
       "      <th>3</th>\n",
       "      <td>1</td>\n",
       "      <td>L</td>\n",
       "      <td>macula</td>\n",
       "      <td>00000</td>\n",
       "      <td>1-20211006-L-cfi-macula-OphtalmoLaus-00000.jpg</td>\n",
       "      <td>00004</td>\n",
       "      <td>1-20211006-L-cfi-macula-OphtalmoLaus-00004.jpg</td>\n",
       "    </tr>\n",
       "    <tr>\n",
       "      <th>4</th>\n",
       "      <td>1</td>\n",
       "      <td>L</td>\n",
       "      <td>macula</td>\n",
       "      <td>00000</td>\n",
       "      <td>1-20211006-L-cfi-macula-OphtalmoLaus-00000.jpg</td>\n",
       "      <td>00005</td>\n",
       "      <td>1-20211006-L-cfi-macula-OphtalmoLaus-00005.jpg</td>\n",
       "    </tr>\n",
       "    <tr>\n",
       "      <th>7</th>\n",
       "      <td>1</td>\n",
       "      <td>R</td>\n",
       "      <td>macula</td>\n",
       "      <td>00000</td>\n",
       "      <td>1-20211006-R-cfi-macula-OphtalmoLaus-00000.jpg</td>\n",
       "      <td>00001</td>\n",
       "      <td>1-20211006-R-cfi-macula-OphtalmoLaus-00001.jpg</td>\n",
       "    </tr>\n",
       "    <tr>\n",
       "      <th>8</th>\n",
       "      <td>1</td>\n",
       "      <td>R</td>\n",
       "      <td>macula</td>\n",
       "      <td>00000</td>\n",
       "      <td>1-20211006-R-cfi-macula-OphtalmoLaus-00000.jpg</td>\n",
       "      <td>00004</td>\n",
       "      <td>1-20211006-R-cfi-macula-OphtalmoLaus-00004.jpg</td>\n",
       "    </tr>\n",
       "    <tr>\n",
       "      <th>9</th>\n",
       "      <td>1</td>\n",
       "      <td>R</td>\n",
       "      <td>macula</td>\n",
       "      <td>00000</td>\n",
       "      <td>1-20211006-R-cfi-macula-OphtalmoLaus-00000.jpg</td>\n",
       "      <td>00005</td>\n",
       "      <td>1-20211006-R-cfi-macula-OphtalmoLaus-00005.jpg</td>\n",
       "    </tr>\n",
       "  </tbody>\n",
       "</table>\n",
       "</div>"
      ],
      "text/plain": [
       "  patient_id eye centrage num_target  \\\n",
       "2          1   L   macula      00000   \n",
       "3          1   L   macula      00000   \n",
       "4          1   L   macula      00000   \n",
       "7          1   R   macula      00000   \n",
       "8          1   R   macula      00000   \n",
       "9          1   R   macula      00000   \n",
       "\n",
       "                                      path_target num_source  \\\n",
       "2  1-20211006-L-cfi-macula-OphtalmoLaus-00000.jpg      00001   \n",
       "3  1-20211006-L-cfi-macula-OphtalmoLaus-00000.jpg      00004   \n",
       "4  1-20211006-L-cfi-macula-OphtalmoLaus-00000.jpg      00005   \n",
       "7  1-20211006-R-cfi-macula-OphtalmoLaus-00000.jpg      00001   \n",
       "8  1-20211006-R-cfi-macula-OphtalmoLaus-00000.jpg      00004   \n",
       "9  1-20211006-R-cfi-macula-OphtalmoLaus-00000.jpg      00005   \n",
       "\n",
       "                                      path_source  \n",
       "2  1-20211006-L-cfi-macula-OphtalmoLaus-00001.jpg  \n",
       "3  1-20211006-L-cfi-macula-OphtalmoLaus-00004.jpg  \n",
       "4  1-20211006-L-cfi-macula-OphtalmoLaus-00005.jpg  \n",
       "7  1-20211006-R-cfi-macula-OphtalmoLaus-00001.jpg  \n",
       "8  1-20211006-R-cfi-macula-OphtalmoLaus-00004.jpg  \n",
       "9  1-20211006-R-cfi-macula-OphtalmoLaus-00005.jpg  "
      ]
     },
     "execution_count": 4,
     "metadata": {},
     "output_type": "execute_result"
    }
   ],
   "source": [
    "REGISTERED_DIR = './4_cross-correlation/output/'\n",
    "DATA_DIR = \"/data/ml4s2021/data/2021_11_12/OphtalmoLaus/\"\n",
    "OUTPUT_DIR = \"./output/\"\n",
    "\n",
    "images_df = helpers.load_df(DATA_DIR)\n",
    "\n",
    "grouped_df = images_df.groupby(['patient_id', 'eye', 'centrage'], as_index=False)\n",
    "\n",
    "target_df = grouped_df.first()\n",
    "target_df[target_df['patient_id'] == '1']\n",
    "\n",
    "df = pd.merge(\n",
    "    target_df,\n",
    "    images_df,\n",
    "    how='inner',\n",
    "    on=['patient_id', 'eye', 'centrage'],\n",
    "    suffixes=('_target', '_source')\n",
    ")\n",
    "df = df[df['num_target'] != df['num_source']]\n",
    "print(df.shape)\n",
    "print(df.columns)\n",
    "df[df['patient_id'] == '1']"
   ]
  },
  {
   "cell_type": "markdown",
   "metadata": {},
   "source": [
    "# Evaluating results"
   ]
  },
  {
   "cell_type": "code",
   "execution_count": 9,
   "metadata": {},
   "outputs": [
    {
     "name": "stdout",
     "output_type": "stream",
     "text": [
      "n 499\n",
      "done\n"
     ]
    }
   ],
   "source": [
    "df['target-source-nmi'] = np.nan\n",
    "df['target-moved-nmi'] = np.nan\n",
    "\n",
    "df['target-source-mse'] = np.nan\n",
    "df['target-moved-mse'] = np.nan\n",
    "\n",
    "df['target-source-structsim'] = np.nan\n",
    "df['target-moved-structsim'] = np.nan\n",
    "\n",
    "tot = 0\n",
    "last_loaded_path_target = ''\n",
    "for idx, row in df.iterrows():\n",
    "    print('n ' + str(tot), end='\\r')\n",
    "    tot += 1\n",
    "    try:\n",
    "        if last_loaded_path_target != row['path_target']:\n",
    "            target = preproc(imread(DATA_DIR+row['path_target']))\n",
    "            last_loaded_path_target = row['path_target']\n",
    "        source = preproc(imread(DATA_DIR+row['path_source']))\n",
    "        folder = REGISTERED_DIR+f\"{row['patient_id']}_{row['eye']}_{row['centrage']}/\"\n",
    "        moved = preproc(imread(folder+row['path_source']))\n",
    "        \n",
    "        target_source_nmi = skimage.metrics.normalized_mutual_information(target, source)\n",
    "        target_moved_nmi = skimage.metrics.normalized_mutual_information(target, moved)\n",
    "        df.loc[idx, 'target-source-nmi'] = target_source_nmi\n",
    "        df.loc[idx, 'target-moved-nmi'] = target_moved_nmi\n",
    "\n",
    "        target_source_structsim = skimage.metrics.structural_similarity(target, source)\n",
    "        target_moved_structsim = skimage.metrics.structural_similarity(target, moved)\n",
    "        df.loc[idx, 'target-source-structsim'] = target_source_structsim\n",
    "        df.loc[idx, 'target-moved-structsim'] = target_moved_structsim\n",
    "    except Exception:\n",
    "        continue\n",
    "    finally:    \n",
    "        if tot == 500:\n",
    "            break\n",
    "\n",
    "print(\"\\ndone\")"
   ]
  },
  {
   "cell_type": "code",
   "execution_count": 14,
   "metadata": {},
   "outputs": [
    {
     "ename": "AttributeError",
     "evalue": "'AxesSubplot' object has no attribute 'flatten'",
     "output_type": "error",
     "traceback": [
      "\u001b[0;31m---------------------------------------------------------------------------\u001b[0m",
      "\u001b[0;31mAttributeError\u001b[0m                            Traceback (most recent call last)",
      "\u001b[0;32m/tmp/ipykernel_20001/13484785.py\u001b[0m in \u001b[0;36m<module>\u001b[0;34m\u001b[0m\n\u001b[1;32m      1\u001b[0m \u001b[0mfig\u001b[0m\u001b[0;34m,\u001b[0m \u001b[0max\u001b[0m \u001b[0;34m=\u001b[0m \u001b[0mplt\u001b[0m\u001b[0;34m.\u001b[0m\u001b[0msubplots\u001b[0m\u001b[0;34m(\u001b[0m\u001b[0;36m1\u001b[0m\u001b[0;34m,\u001b[0m \u001b[0;36m1\u001b[0m\u001b[0;34m,\u001b[0m \u001b[0mfigsize\u001b[0m\u001b[0;34m=\u001b[0m\u001b[0;34m(\u001b[0m\u001b[0;36m5\u001b[0m\u001b[0;34m,\u001b[0m \u001b[0;36m3\u001b[0m\u001b[0;34m)\u001b[0m\u001b[0;34m)\u001b[0m\u001b[0;34m\u001b[0m\u001b[0;34m\u001b[0m\u001b[0m\n\u001b[0;32m----> 2\u001b[0;31m \u001b[0max0\u001b[0m \u001b[0;34m=\u001b[0m \u001b[0max\u001b[0m\u001b[0;34m.\u001b[0m\u001b[0mflatten\u001b[0m\u001b[0;34m(\u001b[0m\u001b[0;34m)\u001b[0m\u001b[0;34m\u001b[0m\u001b[0;34m\u001b[0m\u001b[0m\n\u001b[0m\u001b[1;32m      3\u001b[0m \u001b[0;34m\u001b[0m\u001b[0m\n\u001b[1;32m      4\u001b[0m \u001b[0mbins\u001b[0m\u001b[0;34m=\u001b[0m\u001b[0;36m25\u001b[0m\u001b[0;34m\u001b[0m\u001b[0;34m\u001b[0m\u001b[0m\n\u001b[1;32m      5\u001b[0m \u001b[0;34m\u001b[0m\u001b[0m\n",
      "\u001b[0;31mAttributeError\u001b[0m: 'AxesSubplot' object has no attribute 'flatten'"
     ]
    },
    {
     "data": {
      "image/png": "[encoded data removed]",
      "text/plain": [
       "<Figure size 360x216 with 1 Axes>"
      ]
     },
     "metadata": {
      "needs_background": "light"
     },
     "output_type": "display_data"
    }
   ],
   "source": [
    "fig, ax = plt.subplots(1, 1, figsize=(5, 3))\n",
    "\n",
    "bins=25\n",
    "\n",
    "ax0.hist(df[['target-source-nmi', 'target-moved-nmi']], bins, density=True, histtype='bar', label=['Target - Source', 'Target - Moved'])\n",
    "ax0.legend(prop={'size': 10})\n",
    "ax0.set_title('Normalized mutual information')\n",
    "\n",
    "fig.tight_layout()\n",
    "plt.show()"
   ]
  },
  {
   "cell_type": "markdown",
   "metadata": {},
   "source": [
    "As we can see, it seems that some of the moved image give *very* bad results. We can see them in the registred image folders for some registration sets.\n",
    "\n",
    "Still, we can also see that registration gives good results on all other case.\n",
    "\n",
    "To sum up, the registration can:\n",
    "\n",
    "- not work at all\n",
    "- give good results\n",
    "\n",
    "If we take a look at the case where it doesn't work, we can understand that vessels are harder to extract. We could try to find hyperparameters that suit well for these cases too, or make some of them dynamics (for example the background suppression)."
   ]
  },
  {
   "cell_type": "code",
   "execution_count": 51,
   "metadata": {},
   "outputs": [
    {
     "name": "stdout",
     "output_type": "stream",
     "text": [
      "Mutual information - mean\n",
      "Target - Source : 1.272\n",
      "Target - Moved  : 1.246\n",
      "\n",
      "-- Other metrics --\n",
      "\n",
      "Mean squared error - mean\n",
      "Target - Source : 0.005\n",
      "Target - Moved  : 0.020\n",
      "\n",
      "Structural similarity - mean\n",
      "Target - Source : 0.973\n",
      "Target - Moved  : 0.906\n"
     ]
    }
   ],
   "source": [
    "print(\"Mutual information - mean\")\n",
    "print(f\"Target - Source : {df['target-source-nmi'].mean():.3f}\")\n",
    "print(f\"Target - Moved  : {df['target-moved-nmi'].mean():.3f}\")\n",
    "\n",
    "print('\\n-- Other metrics --')\n",
    "\n",
    "print(\"\\nStructural similarity - mean\")\n",
    "print(f\"Target - Source : {df['target-source-structsim'].mean():.3f}\")\n",
    "print(f\"Target - Moved  : {df['target-moved-structsim'].mean():.3f}\")"
   ]
  },
  {
   "cell_type": "markdown",
   "metadata": {},
   "source": [
    "Next thing we can do is looking at the gain we obtain, i.e. the difference between the target-source metric and the target-moved metric."
   ]
  },
  {
   "cell_type": "code",
   "execution_count": 52,
   "metadata": {},
   "outputs": [],
   "source": [
    "df['gain-nmi'] = df['target-moved-nmi'] - df['target-source-nmi']\n",
    "df['gain-structsim'] = df['target-moved-structsim'] - df['target-source-structsim']"
   ]
  },
  {
   "cell_type": "code",
   "execution_count": 54,
   "metadata": {},
   "outputs": [
    {
     "data": {
      "image/png": "[encoded data removed]",
      "text/plain": [
       "<Figure size 720x216 with 3 Axes>"
      ]
     },
     "metadata": {
      "needs_background": "light"
     },
     "output_type": "display_data"
    }
   ],
   "source": [
    "fig, ax = plt.subplots(1, 2, figsize=(8, 3))\n",
    "ax0, ax1 = ax.flatten()\n",
    "\n",
    "bins=50\n",
    "\n",
    "ax0.hist(df['gain-nmi'], bins, density=True, histtype='bar')\n",
    "ax0.set_title('Normalized mutual information gain')\n",
    "\n",
    "ax1.hist(df['gain-structsim'], bins, density=True, histtype='bar')\n",
    "ax1.set_title('Structural similarity gain')\n",
    "\n",
    "fig.tight_layout()\n",
    "plt.show()"
   ]
  },
  {
   "cell_type": "markdown",
   "metadata": {},
   "source": [
    "These results confirm what we said."
   ]
  },
  {
   "cell_type": "code",
   "execution_count": 55,
   "metadata": {},
   "outputs": [
    {
     "name": "stdout",
     "output_type": "stream",
     "text": [
      "Mutual information\n",
      "Mean gain : -0.026\n",
      "\n",
      "-- Other metrics --\n",
      "\n",
      "Mean squared error\n",
      "Mean gain : 0.015\n",
      "\n",
      "Structural similarity\n",
      "Mean gain : -0.067\n"
     ]
    }
   ],
   "source": [
    "print(\"Mutual information\")\n",
    "print(f\"Mean gain : {df['gain-nmi'].mean():.3f}\")\n",
    "\n",
    "print('\\n-- Other metrics --')\n",
    "\n",
    "print(\"\\nStructural similarity\")\n",
    "print(f\"Mean gain : {df['gain-structsim'].mean():.3f}\")"
   ]
  }
 ],
 "metadata": {
  "kernelspec": {
   "display_name": "ml4s-py3.8",
   "language": "python",
   "name": "ml4s-py3.8"
  },
  "language_info": {
   "codemirror_mode": {
    "name": "ipython",
    "version": 3
   },
   "file_extension": ".py",
   "mimetype": "text/x-python",
   "name": "python",
   "nbconvert_exporter": "python",
   "pygments_lexer": "ipython3",
   "version": "3.8.6"
  }
 },
 "nbformat": 4,
 "nbformat_minor": 2
}
